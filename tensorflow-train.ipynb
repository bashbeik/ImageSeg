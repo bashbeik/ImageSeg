{
 "cells": [
  {
   "cell_type": "code",
   "execution_count": 1,
   "metadata": {
    "collapsed": false
   },
   "outputs": [
    {
     "name": "stdout",
     "output_type": "stream",
     "text": [
      "96\n",
      "Tensor(\"div:0\", shape=(?, 21, 256, 256), dtype=float32)\n",
      "Tensor(\"Mean:0\", shape=(?,), dtype=float32)\n"
     ]
    },
    {
     "name": "stderr",
     "output_type": "stream",
     "text": [
      "Using TensorFlow backend.\n"
     ]
    }
   ],
   "source": [
    "from keras.models import Model\n",
    "from keras.layers import *\n",
    "from keras.layers.convolutional import *\n",
    "import tensorflow as tf\n",
    "from keras import backend as K\n",
    "import numpy as np\n",
    "\n",
    "# TODO: are we doing deconvolution the right way?\n",
    "# TODO: how to incorporate different weight/bias learning rates?\n",
    "# TODO: other details of FCN that might need to be matched...\n",
    "\n",
    "# A convolutional block.\n",
    "# May consist of multiple convolutions of different sizes stacked on top of one another.\n",
    "# It may also have an optional max-pooling or dropout layer at the end.\n",
    "def convolution_block(x0, conv_kern_sizes, out_dims, prev_dim, max_pool=1, dropout=0.0, bm='same'):\n",
    "\t# do the stack of convolutional layers\n",
    "\tfor i in range(0,len(conv_kern_sizes)):\n",
    "\t\tk = conv_kern_sizes[i]\n",
    "\t\tweights = np.random.randn(out_dims[i],prev_dim,k,k)\n",
    "\t\tbiases  = np.random.randn(out_dims[i])\n",
    "\t\tprev_dim = out_dims[i]\n",
    "\t\tx = Convolution2D(out_dims[i], k, k, border_mode=bm, weights=[weights, biases], activation='relu')(x0)\n",
    "\t\tif dropout > 0.0:  # add a dropout layer in between if required\n",
    "\t\t\tx = Dropout(dropout)(x)\n",
    "\t\tx0 = x\n",
    "\t# add a max-pooling layer at end if required\n",
    "\tif max_pool > 1:\n",
    "\t\tx = MaxPooling2D(pool_size=(max_pool,max_pool))(x)\n",
    "\treturn x\n",
    "\n",
    "# Crop 'big' to the size of 'small'\n",
    "def crop_to_tensor(big, small):\n",
    "\tsmallc = (small.get_shape()[1])._value\n",
    "\tsmallw = (small.get_shape()[2])._value\n",
    "\tsmallh = (small.get_shape()[3])._value\n",
    "\tw_diff = (big.get_shape()[2])._value - smallw\n",
    "\th_diff = (big.get_shape()[3])._value - smallh\n",
    "\t# set sizes and use tensorflow slicing.\n",
    "\tbegin = [ 0, 0,w_diff//2,h_diff//2]\n",
    "\tsize  = [-1,-1,smallw,smallh]\n",
    "\t# TODO: \n",
    "\treturn Lambda(lambda x: tf.slice(x, begin, size), output_shape=(smallc, smallw, smallh))(big)\n",
    "\n",
    "# Create a new image cropping layer.\n",
    "# def crop_tf(x, target_height=0, target_width=0):\n",
    "# \treturn tf.image.resize_image_with_crop_or_pad(x, target_height, target_width)\n",
    "# def image_crop_outputshape(inpshape, target_h, target_w):\n",
    "# \tshape = list(inpshape)\n",
    "# \tassert leng(shape) == 4\n",
    "# \tshape[2] = target_h\n",
    "# \tshape[3] = target_w\n",
    "# \treturn tuple(shape)\n",
    "# def crop_image(inp, height, width):\n",
    "# \treturn Lambda(crop_tf,\n",
    "# \t\t          output_shape=lambda sh: image_crop_outputshape(sh,height,width),\n",
    "# \t\t          arguments={target_h:height,target_w:width})(inp)\n",
    "\n",
    "# Takes an input layer, and an input layer from several layers below,\n",
    "# upsamples the input,\n",
    "# And combines them by summing.\n",
    "def upsample2_with_skiplayer(inp, pool):\n",
    "\t# upsample input\n",
    "\tupscore = UpSampling2D(size=(2,2))(inp)\n",
    "\tupscore = Convolution2D(N_labels, 4, 4, border_mode='same', bias=False)(upscore)\n",
    "\t# merge with layer from several layers below.\n",
    "\tscore_pool = Convolution2D(N_labels, 1, 1)(pool)\n",
    "\tscore_poolc = crop_to_tensor(score_pool, upscore) \n",
    "\treturn merge([score_poolc, upscore], mode='sum')\n",
    "\n",
    "# Soft-max function on the output.\n",
    "\n",
    "# TensorFlow version\n",
    "# The input to this function should be of dimension (nb, channels, width, height)\n",
    "# The softmax is computed on each (i, :, j, k) vector.\n",
    "# def array_softmax(inp):\n",
    "# \texp_logits = tf.exp(inp)  # compute exponential of each number\n",
    "# \tsum_exp = tf.reduce_sum(exp_logits, 1, keep_dims=True) # 0, 1, 2, 3\n",
    "# \treturn tf.div(exp_logits, sum_exp)\n",
    "\n",
    "# Keras version\n",
    "def array_softmax(inp):\n",
    "\texp_logits = K.exp(inp)\n",
    "\tsum_exp = K.sum(exp_logits, axis=1, keepdims=True)\n",
    "\treturn exp_logits / sum_exp\n",
    "\n",
    "# Cross-entropy loss on an array of vectors.\n",
    "# The inputs to this function should be of dimension (nb, channels, width, height).\n",
    "# First, the cross-entropies are calculated, resulting in (nb, width, height) numbers.\n",
    "# These are then summed to return the full cross-entropy loss for each input in batch: (nb,)\n",
    "# y: predictions; y_: one-hot target output classes.\n",
    "def array_crossentropy(y,y_):\n",
    "\tce = -tf.reduce_sum(y_ * tf.log(y), 1)\n",
    "\treturn tf.reduce_mean(ce, [1, 2])\n",
    "\n",
    "input_w = 256\n",
    "N_labels = 21\n",
    "fin_k_size = 7\n",
    "learning_rate = 1e-5\n",
    "\n",
    "in_pad = 16*(fin_k_size-1)\n",
    "print in_pad\n",
    "\n",
    "data   = Input(shape=(       3,input_w,input_w))\n",
    "labels = Input(shape=(N_labels,input_w,input_w))\n",
    "\n",
    "datap = ZeroPadding2D(padding=(in_pad,in_pad))(data)\n",
    "# Forward encoding; use convolution blocks.\n",
    "# There are 5 max-pools so 2^5=32x downsampling.\n",
    "pool1 = convolution_block(datap, [3, 3],    [ 64,  64], 3, max_pool=2)\n",
    "pool2 = convolution_block(pool1, [3, 3],    [128, 128], 64, max_pool=2)\n",
    "pool3 = convolution_block(pool2, [3, 3, 3], [256, 256, 256], 128, max_pool=2)\n",
    "pool4 = convolution_block(pool3, [3, 3, 3], [512, 512, 512], 256, max_pool=2)\n",
    "pool5 = convolution_block(pool4, [3, 3, 3], [512, 512, 512], 512, max_pool=2)\n",
    "fc7   = convolution_block(pool5, [fin_k_size, 1],    [4096, 4096], 512, dropout=0.5, bm='valid') # no padding on this layer\n",
    "#fc7   = convolution_block(fc6,   [1], [4096], dropout=0.5)\n",
    "score = convolution_block(fc7,   [1], [N_labels], 4096)   # final single 1x1 convolution layer for score layer.\n",
    "\n",
    "# Now upsample 4x and deconvolution\n",
    "score_fused = upsample2_with_skiplayer(score,       pool4)\n",
    "score_final = upsample2_with_skiplayer(score_fused, pool3)\n",
    "\n",
    "# final 8x upsample and final score\n",
    "bigscore = UpSampling2D(size=(8,8))(score_final)\n",
    "bigscore = Convolution2D(N_labels, 16, 16, bias=False, border_mode='same')(bigscore)\n",
    "score_sf = Lambda(array_softmax, output_shape=(lambda x: x))(bigscore)\n",
    "\n",
    "#print score_sf\n",
    "# softmax cross-entropy loss\n",
    "#score_sf = array_softmax(bigscore)\n",
    "\n",
    "print score_sf\n",
    "loss = array_crossentropy(array_softmax(bigscore), labels)\n",
    "\n",
    "print loss\n",
    "\n",
    "tf.scalar_summary(loss.op.name, loss)\n",
    "optimizer = tf.train.GradientDescentOptimizer(learning_rate)\n",
    "\n",
    "global_step = tf.Variable(0, name='global_step', trainable=False)\n",
    "train_op = optimizer.minimize(loss, global_step=global_step)\n",
    "\n",
    "#model = Model(input=data, output=score_sf)\n",
    "#model.compile(optimizer='sgd', loss='categorical_crossentropy')\n"
   ]
  },
  {
   "cell_type": "code",
   "execution_count": 6,
   "metadata": {
    "collapsed": false
   },
   "outputs": [],
   "source": [
    "import numpy as np\n",
    "img_data = np.load('/home/anej001/data/VOCdevkit/train-data.npy')\n",
    "labl_data = np.load('/home/anej001/data/VOCdevkit/train-label.npy')"
   ]
  },
  {
   "cell_type": "code",
   "execution_count": 16,
   "metadata": {
    "collapsed": true
   },
   "outputs": [],
   "source": [
    "def new_batch(img_data, labl_data, batch_size):\n",
    "    idx = np.random.randint(0,img_data.shape[0]-1,batch_size)\n",
    "    return (img_data[idx,:,:,:], labl_data[idx,:,:,:])"
   ]
  },
  {
   "cell_type": "code",
   "execution_count": 21,
   "metadata": {
    "collapsed": false
   },
   "outputs": [
    {
     "ename": "ValueError",
     "evalue": "Cannot feed value of shape (10, 4, 4, 4) for Tensor u'input_1:0', which has shape '(?, 3, 256, 256)'",
     "output_type": "error",
     "traceback": [
      "\u001b[1;31m---------------------------------------------------------------------------\u001b[0m",
      "\u001b[1;31mValueError\u001b[0m                                Traceback (most recent call last)",
      "\u001b[1;32m<ipython-input-21-592853666965>\u001b[0m in \u001b[0;36m<module>\u001b[1;34m()\u001b[0m\n\u001b[0;32m     21\u001b[0m             \u001b[1;31m# Run optimization op (backprop) and cost op (to get loss value)\u001b[0m\u001b[1;33m\u001b[0m\u001b[1;33m\u001b[0m\u001b[0m\n\u001b[0;32m     22\u001b[0m             _, c = sess.run([optimizer, loss], feed_dict={data: batch_x,\n\u001b[1;32m---> 23\u001b[1;33m                                                           labels: batch_y})\n\u001b[0m\u001b[0;32m     24\u001b[0m             \u001b[1;31m# Compute average loss\u001b[0m\u001b[1;33m\u001b[0m\u001b[1;33m\u001b[0m\u001b[0m\n\u001b[0;32m     25\u001b[0m             \u001b[0mavg_cost\u001b[0m \u001b[1;33m+=\u001b[0m \u001b[0mc\u001b[0m \u001b[1;33m/\u001b[0m \u001b[0mtotal_batch\u001b[0m\u001b[1;33m\u001b[0m\u001b[0m\n",
      "\u001b[1;32m/usr/local/lib/python2.7/dist-packages/tensorflow/python/client/session.pyc\u001b[0m in \u001b[0;36mrun\u001b[1;34m(self, fetches, feed_dict, options, run_metadata)\u001b[0m\n\u001b[0;32m    338\u001b[0m     \u001b[1;32mtry\u001b[0m\u001b[1;33m:\u001b[0m\u001b[1;33m\u001b[0m\u001b[0m\n\u001b[0;32m    339\u001b[0m       result = self._run(None, fetches, feed_dict, options_ptr,\n\u001b[1;32m--> 340\u001b[1;33m                          run_metadata_ptr)\n\u001b[0m\u001b[0;32m    341\u001b[0m       \u001b[1;32mif\u001b[0m \u001b[0mrun_metadata\u001b[0m\u001b[1;33m:\u001b[0m\u001b[1;33m\u001b[0m\u001b[0m\n\u001b[0;32m    342\u001b[0m         \u001b[0mproto_data\u001b[0m \u001b[1;33m=\u001b[0m \u001b[0mtf_session\u001b[0m\u001b[1;33m.\u001b[0m\u001b[0mTF_GetBuffer\u001b[0m\u001b[1;33m(\u001b[0m\u001b[0mrun_metadata_ptr\u001b[0m\u001b[1;33m)\u001b[0m\u001b[1;33m\u001b[0m\u001b[0m\n",
      "\u001b[1;32m/usr/local/lib/python2.7/dist-packages/tensorflow/python/client/session.pyc\u001b[0m in \u001b[0;36m_run\u001b[1;34m(self, handle, fetches, feed_dict, options, run_metadata)\u001b[0m\n\u001b[0;32m    551\u001b[0m                 \u001b[1;34m'Cannot feed value of shape %r for Tensor %r, '\u001b[0m\u001b[1;33m\u001b[0m\u001b[0m\n\u001b[0;32m    552\u001b[0m                 \u001b[1;34m'which has shape %r'\u001b[0m\u001b[1;33m\u001b[0m\u001b[0m\n\u001b[1;32m--> 553\u001b[1;33m                 % (np_val.shape, subfeed_t.name, str(subfeed_t.get_shape())))\n\u001b[0m\u001b[0;32m    554\u001b[0m           \u001b[1;32mif\u001b[0m \u001b[1;32mnot\u001b[0m \u001b[0mself\u001b[0m\u001b[1;33m.\u001b[0m\u001b[0mgraph\u001b[0m\u001b[1;33m.\u001b[0m\u001b[0mis_feedable\u001b[0m\u001b[1;33m(\u001b[0m\u001b[0msubfeed_t\u001b[0m\u001b[1;33m)\u001b[0m\u001b[1;33m:\u001b[0m\u001b[1;33m\u001b[0m\u001b[0m\n\u001b[0;32m    555\u001b[0m             \u001b[1;32mraise\u001b[0m \u001b[0mValueError\u001b[0m\u001b[1;33m(\u001b[0m\u001b[1;34m'Tensor %s may not be fed.'\u001b[0m \u001b[1;33m%\u001b[0m \u001b[0msubfeed_t\u001b[0m\u001b[1;33m)\u001b[0m\u001b[1;33m\u001b[0m\u001b[0m\n",
      "\u001b[1;31mValueError\u001b[0m: Cannot feed value of shape (10, 4, 4, 4) for Tensor u'input_1:0', which has shape '(?, 3, 256, 256)'"
     ]
    }
   ],
   "source": [
    "learning_rate = 0.0001\n",
    "training_epochs = 15\n",
    "batch_size = 10\n",
    "display_step = 1\n",
    "num_examples = img_data.shape[0]\n",
    "\n",
    "# Define optimizer\n",
    "optimizer = tf.train.GradientDescentOptimizer(learning_rate=learning_rate, use_locking=False, name='GradientDescent').minimize(loss)\n",
    "\n",
    "init = tf.initialize_all_variables()\n",
    "with tf.Session() as sess:\n",
    "    sess.run(init)\n",
    "\n",
    "    # Training cycle\n",
    "    for epoch in range(training_epochs):\n",
    "        avg_cost = 0.\n",
    "        total_batch = int(num_examples/batch_size)\n",
    "        # Loop over all batches\n",
    "        for i in range(total_batch):\n",
    "            batch_x, batch_y = new_batch(img_data,labl_data,batch_size)\n",
    "            # Run optimization op (backprop) and cost op (to get loss value)\n",
    "            _, c = sess.run([optimizer, loss], feed_dict={data: batch_x,\n",
    "                                                          labels: batch_y})\n",
    "            # Compute average loss\n",
    "            avg_cost += c / total_batch\n",
    "        # Display logs per epoch step\n",
    "        if epoch % display_step == 0:\n",
    "            print \"Epoch:\", '%04d' % (epoch+1), \"cost=\", \\\n",
    "                \"{:.9f}\".format(avg_cost)\n",
    "    print \"Optimization Finished!\""
   ]
  },
  {
   "cell_type": "code",
   "execution_count": 20,
   "metadata": {
    "collapsed": false
   },
   "outputs": [
    {
     "data": {
      "text/plain": [
       "(10, 4, 4, 4)"
      ]
     },
     "execution_count": 20,
     "metadata": {},
     "output_type": "execute_result"
    }
   ],
   "source": []
  },
  {
   "cell_type": "code",
   "execution_count": 10,
   "metadata": {
    "collapsed": false
   },
   "outputs": [
    {
     "data": {
      "text/plain": [
       "array([65, 44, 36, 34, 68, 34, 16, 94, 19, 15])"
      ]
     },
     "execution_count": 10,
     "metadata": {},
     "output_type": "execute_result"
    }
   ],
   "source": []
  },
  {
   "cell_type": "code",
   "execution_count": null,
   "metadata": {
    "collapsed": true
   },
   "outputs": [],
   "source": []
  }
 ],
 "metadata": {
  "kernelspec": {
   "display_name": "Python 2",
   "language": "python",
   "name": "python2"
  },
  "language_info": {
   "codemirror_mode": {
    "name": "ipython",
    "version": 2
   },
   "file_extension": ".py",
   "mimetype": "text/x-python",
   "name": "python",
   "nbconvert_exporter": "python",
   "pygments_lexer": "ipython2",
   "version": "2.7.6"
  }
 },
 "nbformat": 4,
 "nbformat_minor": 0
}
